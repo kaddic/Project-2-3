{
 "cells": [
  {
   "cell_type": "markdown",
   "metadata": {},
   "source": [
    "Introduction \n",
    "\n",
    "Dataset ready for analysis showing real property information, including most recent sales price as of July 2018, for properties located in Washington, D.C.\n",
    "\n",
    "Objective -  Identify predictive features for the price of a house."
   ]
  },
  {
   "cell_type": "markdown",
   "metadata": {},
   "source": [
    "DATA \n",
    "\n",
    "Data Set Characteristics:  \n",
    "\n",
    "        Number of rows : 158589\n",
    "        Number of Columns : 49\n",
    "\n",
    "ID    \n",
    "BATHRM: Number of full bathromm    \n",
    "HF_BATHRM : Number of Half Bathrooms (no bathtub or shower)\n",
    "HEAT : Heating\n",
    "AC : Cooling\n",
    "NUM_UNITS :Number of Units\n",
    "ROOMS: Number of Rooms\n",
    "BEDRM: Number of Bedrooms\n",
    "AYB : The earliest time the main portion of the building was built\n",
    "YR_RMDL : Year structure was remodeled\n",
    "EYB : The year an improvement was built more recent than actual year built\n",
    "STORIES : Number of stories in primary dwelling\n",
    "SALEDATE :Date of most recent sale\n",
    "PRICE : Price of most recent sale\n",
    "QUALIFIED : Qualified\n",
    "SALE_NUM : Sale Number\n",
    "GBA : Gross building area in square feet\n",
    "BLDG_NUM : Building Number on Property\n",
    "STYLE :Style\n",
    "STRUCT: Structure\n",
    "GRADE :Grade\n",
    "CNDTN: Condition\n",
    "EXTWALL: Extrerior wall\n",
    "ROOF :Roof type\n",
    "INTWALL :Interior wall\n",
    "KITCHENS :Number of kitchens\n",
    "FIREPLACES: Number of fireplaces\n",
    "USECODE : Property use code\n",
    "LANDAREA :Land area of property in square feet\n",
    "GIS_LAST_MOD_DTTM : Last Modified Date\n",
    "SOURCE: Raw Data Source\n",
    "CMPLX_NUM : Complex number\n",
    "LIVING_GBA : Gross building area in square feet\n",
    "FULLADDRESS: Full Street Address\n",
    "CITY : City\n",
    "STATE: State\n",
    "ZIPCODE: Zip Code\n",
    "NATIONALGRID: Address location national grid coordinate spatial address\n",
    "LATITUDE: Latitude\n",
    "LONGITUDE: Longitude\n",
    "ASSESSMENT_NBHD: Neighborhood ID\n",
    "ASSESSMENT_SUBNBHD : Subneighborhood ID\n",
    "CENSUS_TRACT: Census tract\n",
    "CENSUS_BLOCK : Census block\n",
    "WARD  : Ward (District is divided into eight wards, each with approximately 75,000 residents)\n",
    "SQUARE: Square (from SSL)\n",
    "X:longitude\n",
    "Y: latitude\n",
    "QUADRANT : City quadrant (NE,SE,SW,NW)\n",
    "\n",
    "    \n",
    "\n"
   ]
  },
  {
   "cell_type": "markdown",
   "metadata": {},
   "source": [
    "1. Cleaning the data "
   ]
  },
  {
   "cell_type": "code",
   "execution_count": 57,
   "metadata": {},
   "outputs": [
    {
     "name": "stderr",
     "output_type": "stream",
     "text": [
      "C:\\Python\\lib\\site-packages\\IPython\\core\\interactiveshell.py:2728: DtypeWarning: Columns (18,19,20,21,22,23,24,33,34,35,37,43,45) have mixed types. Specify dtype option on import or set low_memory=False.\n",
      "  interactivity=interactivity, compiler=compiler, result=result)\n"
     ]
    }
   ],
   "source": [
    "# 1.1 Import the libraries needed  and Load the data to Jupyter notebook \n",
    "import pandas as pd\n",
    "import numpy as np\n",
    "from matplotlib import pyplot as plt\n",
    "import seaborn as sns\n",
    "import statsmodels.formula.api as smf\n",
    "from sklearn.linear_model import LinearRegression\n",
    "\n",
    "%matplotlib inline\n",
    "df = pd.read_csv(\"datasets/DC_Properties.csv\")"
   ]
  },
  {
   "cell_type": "code",
   "execution_count": 9,
   "metadata": {},
   "outputs": [
    {
     "data": {
      "text/html": [
       "<div>\n",
       "<style scoped>\n",
       "    .dataframe tbody tr th:only-of-type {\n",
       "        vertical-align: middle;\n",
       "    }\n",
       "\n",
       "    .dataframe tbody tr th {\n",
       "        vertical-align: top;\n",
       "    }\n",
       "\n",
       "    .dataframe thead th {\n",
       "        text-align: right;\n",
       "    }\n",
       "</style>\n",
       "<table border=\"1\" class=\"dataframe\">\n",
       "  <thead>\n",
       "    <tr style=\"text-align: right;\">\n",
       "      <th></th>\n",
       "      <th>Unnamed: 0</th>\n",
       "      <th>BATHRM</th>\n",
       "      <th>HF_BATHRM</th>\n",
       "      <th>HEAT</th>\n",
       "      <th>AC</th>\n",
       "      <th>NUM_UNITS</th>\n",
       "      <th>ROOMS</th>\n",
       "      <th>BEDRM</th>\n",
       "      <th>AYB</th>\n",
       "      <th>YR_RMDL</th>\n",
       "      <th>...</th>\n",
       "      <th>LONGITUDE</th>\n",
       "      <th>ASSESSMENT_NBHD</th>\n",
       "      <th>ASSESSMENT_SUBNBHD</th>\n",
       "      <th>CENSUS_TRACT</th>\n",
       "      <th>CENSUS_BLOCK</th>\n",
       "      <th>WARD</th>\n",
       "      <th>SQUARE</th>\n",
       "      <th>X</th>\n",
       "      <th>Y</th>\n",
       "      <th>QUADRANT</th>\n",
       "    </tr>\n",
       "  </thead>\n",
       "  <tbody>\n",
       "    <tr>\n",
       "      <th>0</th>\n",
       "      <td>0</td>\n",
       "      <td>4</td>\n",
       "      <td>0</td>\n",
       "      <td>Warm Cool</td>\n",
       "      <td>Y</td>\n",
       "      <td>2.0</td>\n",
       "      <td>8</td>\n",
       "      <td>4</td>\n",
       "      <td>1910.0</td>\n",
       "      <td>1988.0</td>\n",
       "      <td>...</td>\n",
       "      <td>-77.040832</td>\n",
       "      <td>Old City 2</td>\n",
       "      <td>040 D Old City 2</td>\n",
       "      <td>4201.0</td>\n",
       "      <td>004201 2006</td>\n",
       "      <td>Ward 2</td>\n",
       "      <td>152</td>\n",
       "      <td>-77.040429</td>\n",
       "      <td>38.914881</td>\n",
       "      <td>NW</td>\n",
       "    </tr>\n",
       "    <tr>\n",
       "      <th>1</th>\n",
       "      <td>1</td>\n",
       "      <td>3</td>\n",
       "      <td>1</td>\n",
       "      <td>Warm Cool</td>\n",
       "      <td>Y</td>\n",
       "      <td>2.0</td>\n",
       "      <td>11</td>\n",
       "      <td>5</td>\n",
       "      <td>1898.0</td>\n",
       "      <td>2007.0</td>\n",
       "      <td>...</td>\n",
       "      <td>-77.040764</td>\n",
       "      <td>Old City 2</td>\n",
       "      <td>040 D Old City 2</td>\n",
       "      <td>4201.0</td>\n",
       "      <td>004201 2006</td>\n",
       "      <td>Ward 2</td>\n",
       "      <td>152</td>\n",
       "      <td>-77.040429</td>\n",
       "      <td>38.914881</td>\n",
       "      <td>NW</td>\n",
       "    </tr>\n",
       "    <tr>\n",
       "      <th>2</th>\n",
       "      <td>2</td>\n",
       "      <td>3</td>\n",
       "      <td>1</td>\n",
       "      <td>Hot Water Rad</td>\n",
       "      <td>Y</td>\n",
       "      <td>2.0</td>\n",
       "      <td>9</td>\n",
       "      <td>5</td>\n",
       "      <td>1910.0</td>\n",
       "      <td>2009.0</td>\n",
       "      <td>...</td>\n",
       "      <td>-77.040678</td>\n",
       "      <td>Old City 2</td>\n",
       "      <td>040 D Old City 2</td>\n",
       "      <td>4201.0</td>\n",
       "      <td>004201 2006</td>\n",
       "      <td>Ward 2</td>\n",
       "      <td>152</td>\n",
       "      <td>-77.040429</td>\n",
       "      <td>38.914881</td>\n",
       "      <td>NW</td>\n",
       "    </tr>\n",
       "    <tr>\n",
       "      <th>3</th>\n",
       "      <td>3</td>\n",
       "      <td>3</td>\n",
       "      <td>1</td>\n",
       "      <td>Hot Water Rad</td>\n",
       "      <td>Y</td>\n",
       "      <td>2.0</td>\n",
       "      <td>8</td>\n",
       "      <td>5</td>\n",
       "      <td>1900.0</td>\n",
       "      <td>2003.0</td>\n",
       "      <td>...</td>\n",
       "      <td>-77.040629</td>\n",
       "      <td>Old City 2</td>\n",
       "      <td>040 D Old City 2</td>\n",
       "      <td>4201.0</td>\n",
       "      <td>004201 2006</td>\n",
       "      <td>Ward 2</td>\n",
       "      <td>152</td>\n",
       "      <td>-77.040429</td>\n",
       "      <td>38.914881</td>\n",
       "      <td>NW</td>\n",
       "    </tr>\n",
       "    <tr>\n",
       "      <th>4</th>\n",
       "      <td>4</td>\n",
       "      <td>2</td>\n",
       "      <td>1</td>\n",
       "      <td>Warm Cool</td>\n",
       "      <td>Y</td>\n",
       "      <td>1.0</td>\n",
       "      <td>11</td>\n",
       "      <td>3</td>\n",
       "      <td>1913.0</td>\n",
       "      <td>2012.0</td>\n",
       "      <td>...</td>\n",
       "      <td>-77.039361</td>\n",
       "      <td>Old City 2</td>\n",
       "      <td>040 D Old City 2</td>\n",
       "      <td>4201.0</td>\n",
       "      <td>004201 2006</td>\n",
       "      <td>Ward 2</td>\n",
       "      <td>152</td>\n",
       "      <td>-77.040429</td>\n",
       "      <td>38.914881</td>\n",
       "      <td>NW</td>\n",
       "    </tr>\n",
       "  </tbody>\n",
       "</table>\n",
       "<p>5 rows × 49 columns</p>\n",
       "</div>"
      ],
      "text/plain": [
       "   Unnamed: 0  BATHRM  HF_BATHRM           HEAT AC  NUM_UNITS  ROOMS  BEDRM  \\\n",
       "0           0       4          0      Warm Cool  Y        2.0      8      4   \n",
       "1           1       3          1      Warm Cool  Y        2.0     11      5   \n",
       "2           2       3          1  Hot Water Rad  Y        2.0      9      5   \n",
       "3           3       3          1  Hot Water Rad  Y        2.0      8      5   \n",
       "4           4       2          1      Warm Cool  Y        1.0     11      3   \n",
       "\n",
       "      AYB  YR_RMDL  ...  LONGITUDE  ASSESSMENT_NBHD ASSESSMENT_SUBNBHD  \\\n",
       "0  1910.0   1988.0  ... -77.040832       Old City 2   040 D Old City 2   \n",
       "1  1898.0   2007.0  ... -77.040764       Old City 2   040 D Old City 2   \n",
       "2  1910.0   2009.0  ... -77.040678       Old City 2   040 D Old City 2   \n",
       "3  1900.0   2003.0  ... -77.040629       Old City 2   040 D Old City 2   \n",
       "4  1913.0   2012.0  ... -77.039361       Old City 2   040 D Old City 2   \n",
       "\n",
       "   CENSUS_TRACT CENSUS_BLOCK    WARD  SQUARE          X          Y QUADRANT  \n",
       "0        4201.0  004201 2006  Ward 2     152 -77.040429  38.914881       NW  \n",
       "1        4201.0  004201 2006  Ward 2     152 -77.040429  38.914881       NW  \n",
       "2        4201.0  004201 2006  Ward 2     152 -77.040429  38.914881       NW  \n",
       "3        4201.0  004201 2006  Ward 2     152 -77.040429  38.914881       NW  \n",
       "4        4201.0  004201 2006  Ward 2     152 -77.040429  38.914881       NW  \n",
       "\n",
       "[5 rows x 49 columns]"
      ]
     },
     "execution_count": 9,
     "metadata": {},
     "output_type": "execute_result"
    }
   ],
   "source": [
    "# Check if the data is loaded corectly by printing the first 5 rows\n",
    "df.head()"
   ]
  },
  {
   "cell_type": "code",
   "execution_count": 10,
   "metadata": {},
   "outputs": [
    {
     "data": {
      "text/html": [
       "<div>\n",
       "<style scoped>\n",
       "    .dataframe tbody tr th:only-of-type {\n",
       "        vertical-align: middle;\n",
       "    }\n",
       "\n",
       "    .dataframe tbody tr th {\n",
       "        vertical-align: top;\n",
       "    }\n",
       "\n",
       "    .dataframe thead th {\n",
       "        text-align: right;\n",
       "    }\n",
       "</style>\n",
       "<table border=\"1\" class=\"dataframe\">\n",
       "  <thead>\n",
       "    <tr style=\"text-align: right;\">\n",
       "      <th></th>\n",
       "      <th>Unnamed: 0</th>\n",
       "      <th>BATHRM</th>\n",
       "      <th>HF_BATHRM</th>\n",
       "      <th>HEAT</th>\n",
       "      <th>AC</th>\n",
       "      <th>NUM_UNITS</th>\n",
       "      <th>ROOMS</th>\n",
       "      <th>BEDRM</th>\n",
       "      <th>AYB</th>\n",
       "      <th>YR_RMDL</th>\n",
       "      <th>...</th>\n",
       "      <th>LONGITUDE</th>\n",
       "      <th>ASSESSMENT_NBHD</th>\n",
       "      <th>ASSESSMENT_SUBNBHD</th>\n",
       "      <th>CENSUS_TRACT</th>\n",
       "      <th>CENSUS_BLOCK</th>\n",
       "      <th>WARD</th>\n",
       "      <th>SQUARE</th>\n",
       "      <th>X</th>\n",
       "      <th>Y</th>\n",
       "      <th>QUADRANT</th>\n",
       "    </tr>\n",
       "  </thead>\n",
       "  <tbody>\n",
       "  </tbody>\n",
       "</table>\n",
       "<p>0 rows × 49 columns</p>\n",
       "</div>"
      ],
      "text/plain": [
       "Empty DataFrame\n",
       "Columns: [Unnamed: 0, BATHRM, HF_BATHRM, HEAT, AC, NUM_UNITS, ROOMS, BEDRM, AYB, YR_RMDL, EYB, STORIES, SALEDATE, PRICE, QUALIFIED, SALE_NUM, GBA, BLDG_NUM, STYLE, STRUCT, GRADE, CNDTN, EXTWALL, ROOF, INTWALL, KITCHENS, FIREPLACES, USECODE, LANDAREA, GIS_LAST_MOD_DTTM, SOURCE, CMPLX_NUM, LIVING_GBA, FULLADDRESS, CITY, STATE, ZIPCODE, NATIONALGRID, LATITUDE, LONGITUDE, ASSESSMENT_NBHD, ASSESSMENT_SUBNBHD, CENSUS_TRACT, CENSUS_BLOCK, WARD, SQUARE, X, Y, QUADRANT]\n",
       "Index: []\n",
       "\n",
       "[0 rows x 49 columns]"
      ]
     },
     "execution_count": 10,
     "metadata": {},
     "output_type": "execute_result"
    }
   ],
   "source": [
    "# 1.2  Check dupilicate rows \n",
    "dupe = df.duplicated() #creates list of True/False values\n",
    "df[dupe]\n"
   ]
  },
  {
   "cell_type": "markdown",
   "metadata": {},
   "source": [
    "The obove output shows no dupilicate rows\n",
    "\n",
    "1.3 In this section we look at the distribution of the variable of interest PRICE \n"
   ]
  },
  {
   "cell_type": "code",
   "execution_count": 13,
   "metadata": {},
   "outputs": [
    {
     "data": {
      "text/plain": [
       "count    9.821600e+04\n",
       "mean     9.313516e+05\n",
       "std      7.061325e+06\n",
       "min      1.000000e+00\n",
       "25%      2.400000e+05\n",
       "50%      3.999990e+05\n",
       "75%      6.520000e+05\n",
       "max      1.374275e+08\n",
       "Name: PRICE, dtype: float64"
      ]
     },
     "execution_count": 13,
     "metadata": {},
     "output_type": "execute_result"
    }
   ],
   "source": [
    "PRICE2 =df['PRICE']\n",
    "PRICE2.describe()"
   ]
  },
  {
   "cell_type": "markdown",
   "metadata": {},
   "source": []
  },
  {
   "cell_type": "code",
   "execution_count": 14,
   "metadata": {},
   "outputs": [
    {
     "data": {
      "text/plain": [
       "<matplotlib.axes._subplots.AxesSubplot at 0x17d0dd9c358>"
      ]
     },
     "execution_count": 14,
     "metadata": {},
     "output_type": "execute_result"
    },
    {
     "data": {
      "image/png": "[encoded data removed]",
      "text/plain": [
       "<Figure size 432x288 with 1 Axes>"
      ]
     },
     "metadata": {},
     "output_type": "display_data"
    }
   ],
   "source": [
    "\n",
    "#plt.ylim(-1e8,2e8)\n",
    "sns.boxplot(data=PRICE2)\n"
   ]
  },
  {
   "cell_type": "code",
   "execution_count": null,
   "metadata": {},
   "outputs": [],
   "source": []
  },
  {
   "cell_type": "markdown",
   "metadata": {},
   "source": [
    "The Box plot of Price shows outliers "
   ]
  },
  {
   "cell_type": "code",
   "execution_count": 5,
   "metadata": {},
   "outputs": [
    {
     "name": "stderr",
     "output_type": "stream",
     "text": [
      "C:\\Python\\lib\\site-packages\\statsmodels\\nonparametric\\kde.py:454: RuntimeWarning: invalid value encountered in greater\n",
      "  X = X[np.logical_and(X>clip[0], X<clip[1])] # won't work for two columns.\n",
      "C:\\Python\\lib\\site-packages\\statsmodels\\nonparametric\\kde.py:454: RuntimeWarning: invalid value encountered in less\n",
      "  X = X[np.logical_and(X>clip[0], X<clip[1])] # won't work for two columns.\n"
     ]
    },
    {
     "data": {
      "text/plain": [
       "[Text(0.5,0,'PRICE')]"
      ]
     },
     "execution_count": 5,
     "metadata": {},
     "output_type": "execute_result"
    },
    {
     "data": {
      "image/png": "[encoded data removed]",
      "text/plain": [
       "<Figure size 720x432 with 1 Axes>"
      ]
     },
     "metadata": {},
     "output_type": "display_data"
    }
   ],
   "source": [
    "#Density plot\n",
    "plt.figure(figsize=(10,6))\n",
    "\n",
    "ax = sns.kdeplot(df['PRICE'],\n",
    "                 shade=True)\n",
    "\n",
    "\n",
    "plt.title(\"Density Plot of PRICE \")\n",
    "\n",
    "ax.set(xlabel='PRICE')"
   ]
  },
  {
   "cell_type": "markdown",
   "metadata": {},
   "source": [
    "\n",
    "Depending on the above plots and summary for Price we decided to remove outliers. \n"
   ]
  },
  {
   "cell_type": "code",
   "execution_count": null,
   "metadata": {},
   "outputs": [],
   "source": []
  },
  {
   "cell_type": "code",
   "execution_count": 15,
   "metadata": {},
   "outputs": [
    {
     "data": {
      "text/html": [
       "<div>\n",
       "<style scoped>\n",
       "    .dataframe tbody tr th:only-of-type {\n",
       "        vertical-align: middle;\n",
       "    }\n",
       "\n",
       "    .dataframe tbody tr th {\n",
       "        vertical-align: top;\n",
       "    }\n",
       "\n",
       "    .dataframe thead th {\n",
       "        text-align: right;\n",
       "    }\n",
       "</style>\n",
       "<table border=\"1\" class=\"dataframe\">\n",
       "  <thead>\n",
       "    <tr style=\"text-align: right;\">\n",
       "      <th></th>\n",
       "      <th>Unnamed: 0</th>\n",
       "      <th>BATHRM</th>\n",
       "      <th>HF_BATHRM</th>\n",
       "      <th>HEAT</th>\n",
       "      <th>AC</th>\n",
       "      <th>NUM_UNITS</th>\n",
       "      <th>ROOMS</th>\n",
       "      <th>BEDRM</th>\n",
       "      <th>AYB</th>\n",
       "      <th>YR_RMDL</th>\n",
       "      <th>...</th>\n",
       "      <th>LONGITUDE</th>\n",
       "      <th>ASSESSMENT_NBHD</th>\n",
       "      <th>ASSESSMENT_SUBNBHD</th>\n",
       "      <th>CENSUS_TRACT</th>\n",
       "      <th>CENSUS_BLOCK</th>\n",
       "      <th>WARD</th>\n",
       "      <th>SQUARE</th>\n",
       "      <th>X</th>\n",
       "      <th>Y</th>\n",
       "      <th>QUADRANT</th>\n",
       "    </tr>\n",
       "  </thead>\n",
       "  <tbody>\n",
       "    <tr>\n",
       "      <th>0</th>\n",
       "      <td>0</td>\n",
       "      <td>4</td>\n",
       "      <td>0</td>\n",
       "      <td>Warm Cool</td>\n",
       "      <td>Y</td>\n",
       "      <td>2.0</td>\n",
       "      <td>8</td>\n",
       "      <td>4</td>\n",
       "      <td>1910.0</td>\n",
       "      <td>1988.0</td>\n",
       "      <td>...</td>\n",
       "      <td>-77.040832</td>\n",
       "      <td>Old City 2</td>\n",
       "      <td>040 D Old City 2</td>\n",
       "      <td>4201.0</td>\n",
       "      <td>004201 2006</td>\n",
       "      <td>Ward 2</td>\n",
       "      <td>152</td>\n",
       "      <td>-77.040429</td>\n",
       "      <td>38.914881</td>\n",
       "      <td>NW</td>\n",
       "    </tr>\n",
       "    <tr>\n",
       "      <th>1</th>\n",
       "      <td>1</td>\n",
       "      <td>3</td>\n",
       "      <td>1</td>\n",
       "      <td>Warm Cool</td>\n",
       "      <td>Y</td>\n",
       "      <td>2.0</td>\n",
       "      <td>11</td>\n",
       "      <td>5</td>\n",
       "      <td>1898.0</td>\n",
       "      <td>2007.0</td>\n",
       "      <td>...</td>\n",
       "      <td>-77.040764</td>\n",
       "      <td>Old City 2</td>\n",
       "      <td>040 D Old City 2</td>\n",
       "      <td>4201.0</td>\n",
       "      <td>004201 2006</td>\n",
       "      <td>Ward 2</td>\n",
       "      <td>152</td>\n",
       "      <td>-77.040429</td>\n",
       "      <td>38.914881</td>\n",
       "      <td>NW</td>\n",
       "    </tr>\n",
       "    <tr>\n",
       "      <th>2</th>\n",
       "      <td>2</td>\n",
       "      <td>3</td>\n",
       "      <td>1</td>\n",
       "      <td>Hot Water Rad</td>\n",
       "      <td>Y</td>\n",
       "      <td>2.0</td>\n",
       "      <td>9</td>\n",
       "      <td>5</td>\n",
       "      <td>1910.0</td>\n",
       "      <td>2009.0</td>\n",
       "      <td>...</td>\n",
       "      <td>-77.040678</td>\n",
       "      <td>Old City 2</td>\n",
       "      <td>040 D Old City 2</td>\n",
       "      <td>4201.0</td>\n",
       "      <td>004201 2006</td>\n",
       "      <td>Ward 2</td>\n",
       "      <td>152</td>\n",
       "      <td>-77.040429</td>\n",
       "      <td>38.914881</td>\n",
       "      <td>NW</td>\n",
       "    </tr>\n",
       "    <tr>\n",
       "      <th>3</th>\n",
       "      <td>3</td>\n",
       "      <td>3</td>\n",
       "      <td>1</td>\n",
       "      <td>Hot Water Rad</td>\n",
       "      <td>Y</td>\n",
       "      <td>2.0</td>\n",
       "      <td>8</td>\n",
       "      <td>5</td>\n",
       "      <td>1900.0</td>\n",
       "      <td>2003.0</td>\n",
       "      <td>...</td>\n",
       "      <td>-77.040629</td>\n",
       "      <td>Old City 2</td>\n",
       "      <td>040 D Old City 2</td>\n",
       "      <td>4201.0</td>\n",
       "      <td>004201 2006</td>\n",
       "      <td>Ward 2</td>\n",
       "      <td>152</td>\n",
       "      <td>-77.040429</td>\n",
       "      <td>38.914881</td>\n",
       "      <td>NW</td>\n",
       "    </tr>\n",
       "    <tr>\n",
       "      <th>4</th>\n",
       "      <td>4</td>\n",
       "      <td>2</td>\n",
       "      <td>1</td>\n",
       "      <td>Warm Cool</td>\n",
       "      <td>Y</td>\n",
       "      <td>1.0</td>\n",
       "      <td>11</td>\n",
       "      <td>3</td>\n",
       "      <td>1913.0</td>\n",
       "      <td>2012.0</td>\n",
       "      <td>...</td>\n",
       "      <td>-77.039361</td>\n",
       "      <td>Old City 2</td>\n",
       "      <td>040 D Old City 2</td>\n",
       "      <td>4201.0</td>\n",
       "      <td>004201 2006</td>\n",
       "      <td>Ward 2</td>\n",
       "      <td>152</td>\n",
       "      <td>-77.040429</td>\n",
       "      <td>38.914881</td>\n",
       "      <td>NW</td>\n",
       "    </tr>\n",
       "  </tbody>\n",
       "</table>\n",
       "<p>5 rows × 49 columns</p>\n",
       "</div>"
      ],
      "text/plain": [
       "   Unnamed: 0  BATHRM  HF_BATHRM           HEAT AC  NUM_UNITS  ROOMS  BEDRM  \\\n",
       "0           0       4          0      Warm Cool  Y        2.0      8      4   \n",
       "1           1       3          1      Warm Cool  Y        2.0     11      5   \n",
       "2           2       3          1  Hot Water Rad  Y        2.0      9      5   \n",
       "3           3       3          1  Hot Water Rad  Y        2.0      8      5   \n",
       "4           4       2          1      Warm Cool  Y        1.0     11      3   \n",
       "\n",
       "      AYB  YR_RMDL  ...  LONGITUDE  ASSESSMENT_NBHD ASSESSMENT_SUBNBHD  \\\n",
       "0  1910.0   1988.0  ... -77.040832       Old City 2   040 D Old City 2   \n",
       "1  1898.0   2007.0  ... -77.040764       Old City 2   040 D Old City 2   \n",
       "2  1910.0   2009.0  ... -77.040678       Old City 2   040 D Old City 2   \n",
       "3  1900.0   2003.0  ... -77.040629       Old City 2   040 D Old City 2   \n",
       "4  1913.0   2012.0  ... -77.039361       Old City 2   040 D Old City 2   \n",
       "\n",
       "   CENSUS_TRACT CENSUS_BLOCK    WARD  SQUARE          X          Y QUADRANT  \n",
       "0        4201.0  004201 2006  Ward 2     152 -77.040429  38.914881       NW  \n",
       "1        4201.0  004201 2006  Ward 2     152 -77.040429  38.914881       NW  \n",
       "2        4201.0  004201 2006  Ward 2     152 -77.040429  38.914881       NW  \n",
       "3        4201.0  004201 2006  Ward 2     152 -77.040429  38.914881       NW  \n",
       "4        4201.0  004201 2006  Ward 2     152 -77.040429  38.914881       NW  \n",
       "\n",
       "[5 rows x 49 columns]"
      ]
     },
     "execution_count": 15,
     "metadata": {},
     "output_type": "execute_result"
    }
   ],
   "source": [
    "#Standard Deviation Method  to remove outlier \n",
    "\n",
    "meanprice = df['PRICE'].mean()\n",
    "stdgrade = df['PRICE'].std()\n",
    "toprange = meanprice + stdgrade * 1.96\n",
    "botrange = meanprice - stdgrade * 1.96\n",
    "\n",
    "copydf = df.copy() #to not mess up the original df\n",
    "copydf = copydf.drop(copydf[copydf['PRICE'] > toprange].index)\n",
    "copydf = copydf.drop(copydf[copydf['PRICE'] < botrange].index)\n",
    "\n",
    "copydf.head()"
   ]
  },
  {
   "cell_type": "code",
   "execution_count": null,
   "metadata": {},
   "outputs": [],
   "source": []
  },
  {
   "cell_type": "code",
   "execution_count": null,
   "metadata": {},
   "outputs": [],
   "source": []
  },
  {
   "cell_type": "code",
   "execution_count": 31,
   "metadata": {},
   "outputs": [
    {
     "data": {
      "text/html": [
       "<div>\n",
       "<style scoped>\n",
       "    .dataframe tbody tr th:only-of-type {\n",
       "        vertical-align: middle;\n",
       "    }\n",
       "\n",
       "    .dataframe tbody tr th {\n",
       "        vertical-align: top;\n",
       "    }\n",
       "\n",
       "    .dataframe thead th {\n",
       "        text-align: right;\n",
       "    }\n",
       "</style>\n",
       "<table border=\"1\" class=\"dataframe\">\n",
       "  <thead>\n",
       "    <tr style=\"text-align: right;\">\n",
       "      <th></th>\n",
       "      <th>Unnamed: 0</th>\n",
       "      <th>BATHRM</th>\n",
       "      <th>HF_BATHRM</th>\n",
       "      <th>NUM_UNITS</th>\n",
       "      <th>ROOMS</th>\n",
       "      <th>BEDRM</th>\n",
       "      <th>AYB</th>\n",
       "      <th>YR_RMDL</th>\n",
       "      <th>EYB</th>\n",
       "      <th>STORIES</th>\n",
       "      <th>...</th>\n",
       "      <th>USECODE</th>\n",
       "      <th>LANDAREA</th>\n",
       "      <th>CMPLX_NUM</th>\n",
       "      <th>LIVING_GBA</th>\n",
       "      <th>ZIPCODE</th>\n",
       "      <th>LATITUDE</th>\n",
       "      <th>LONGITUDE</th>\n",
       "      <th>CENSUS_TRACT</th>\n",
       "      <th>X</th>\n",
       "      <th>Y</th>\n",
       "    </tr>\n",
       "  </thead>\n",
       "  <tbody>\n",
       "    <tr>\n",
       "      <th>count</th>\n",
       "      <td>158589.000000</td>\n",
       "      <td>158589.000000</td>\n",
       "      <td>158589.000000</td>\n",
       "      <td>106689.000000</td>\n",
       "      <td>158589.000000</td>\n",
       "      <td>158589.000000</td>\n",
       "      <td>158318.000000</td>\n",
       "      <td>80563.000000</td>\n",
       "      <td>158589.000000</td>\n",
       "      <td>106645.000000</td>\n",
       "      <td>...</td>\n",
       "      <td>158589.000000</td>\n",
       "      <td>158589.000000</td>\n",
       "      <td>51900.000000</td>\n",
       "      <td>51900.000000</td>\n",
       "      <td>158588.000000</td>\n",
       "      <td>158588.000000</td>\n",
       "      <td>158588.000000</td>\n",
       "      <td>158588.000000</td>\n",
       "      <td>158352.000000</td>\n",
       "      <td>158352.000000</td>\n",
       "    </tr>\n",
       "    <tr>\n",
       "      <th>mean</th>\n",
       "      <td>79363.904829</td>\n",
       "      <td>1.812005</td>\n",
       "      <td>0.458998</td>\n",
       "      <td>1.198052</td>\n",
       "      <td>6.194389</td>\n",
       "      <td>2.736400</td>\n",
       "      <td>1941.905260</td>\n",
       "      <td>1998.211152</td>\n",
       "      <td>1963.682349</td>\n",
       "      <td>2.091801</td>\n",
       "      <td>...</td>\n",
       "      <td>14.247703</td>\n",
       "      <td>2475.457636</td>\n",
       "      <td>2373.204239</td>\n",
       "      <td>890.292042</td>\n",
       "      <td>20012.695292</td>\n",
       "      <td>38.914829</td>\n",
       "      <td>-77.016576</td>\n",
       "      <td>5351.397180</td>\n",
       "      <td>-77.016611</td>\n",
       "      <td>38.914821</td>\n",
       "    </tr>\n",
       "    <tr>\n",
       "      <th>std</th>\n",
       "      <td>45875.039836</td>\n",
       "      <td>0.976084</td>\n",
       "      <td>0.587505</td>\n",
       "      <td>0.596910</td>\n",
       "      <td>2.614676</td>\n",
       "      <td>1.356997</td>\n",
       "      <td>33.623031</td>\n",
       "      <td>16.606190</td>\n",
       "      <td>24.934876</td>\n",
       "      <td>2.933407</td>\n",
       "      <td>...</td>\n",
       "      <td>3.728229</td>\n",
       "      <td>5042.994960</td>\n",
       "      <td>1116.530888</td>\n",
       "      <td>421.024133</td>\n",
       "      <td>15.643138</td>\n",
       "      <td>0.031745</td>\n",
       "      <td>0.040920</td>\n",
       "      <td>3366.622947</td>\n",
       "      <td>0.040915</td>\n",
       "      <td>0.031704</td>\n",
       "    </tr>\n",
       "    <tr>\n",
       "      <th>min</th>\n",
       "      <td>0.000000</td>\n",
       "      <td>0.000000</td>\n",
       "      <td>0.000000</td>\n",
       "      <td>0.000000</td>\n",
       "      <td>0.000000</td>\n",
       "      <td>0.000000</td>\n",
       "      <td>1754.000000</td>\n",
       "      <td>20.000000</td>\n",
       "      <td>1800.000000</td>\n",
       "      <td>0.000000</td>\n",
       "      <td>...</td>\n",
       "      <td>11.000000</td>\n",
       "      <td>0.000000</td>\n",
       "      <td>1001.000000</td>\n",
       "      <td>0.000000</td>\n",
       "      <td>20001.000000</td>\n",
       "      <td>38.819731</td>\n",
       "      <td>-77.113909</td>\n",
       "      <td>100.000000</td>\n",
       "      <td>-77.113135</td>\n",
       "      <td>38.820576</td>\n",
       "    </tr>\n",
       "    <tr>\n",
       "      <th>25%</th>\n",
       "      <td>39652.000000</td>\n",
       "      <td>1.000000</td>\n",
       "      <td>0.000000</td>\n",
       "      <td>1.000000</td>\n",
       "      <td>4.000000</td>\n",
       "      <td>2.000000</td>\n",
       "      <td>1918.000000</td>\n",
       "      <td>1985.000000</td>\n",
       "      <td>1954.000000</td>\n",
       "      <td>2.000000</td>\n",
       "      <td>...</td>\n",
       "      <td>11.000000</td>\n",
       "      <td>700.000000</td>\n",
       "      <td>1499.000000</td>\n",
       "      <td>617.000000</td>\n",
       "      <td>20007.000000</td>\n",
       "      <td>38.895425</td>\n",
       "      <td>-77.042803</td>\n",
       "      <td>2102.000000</td>\n",
       "      <td>-77.042806</td>\n",
       "      <td>38.895432</td>\n",
       "    </tr>\n",
       "    <tr>\n",
       "      <th>50%</th>\n",
       "      <td>79299.000000</td>\n",
       "      <td>2.000000</td>\n",
       "      <td>0.000000</td>\n",
       "      <td>1.000000</td>\n",
       "      <td>6.000000</td>\n",
       "      <td>3.000000</td>\n",
       "      <td>1937.000000</td>\n",
       "      <td>2004.000000</td>\n",
       "      <td>1963.000000</td>\n",
       "      <td>2.000000</td>\n",
       "      <td>...</td>\n",
       "      <td>13.000000</td>\n",
       "      <td>1650.000000</td>\n",
       "      <td>2265.000000</td>\n",
       "      <td>785.000000</td>\n",
       "      <td>20011.000000</td>\n",
       "      <td>38.915262</td>\n",
       "      <td>-77.019479</td>\n",
       "      <td>5201.000000</td>\n",
       "      <td>-77.019473</td>\n",
       "      <td>38.915212</td>\n",
       "    </tr>\n",
       "    <tr>\n",
       "      <th>75%</th>\n",
       "      <td>118948.000000</td>\n",
       "      <td>2.000000</td>\n",
       "      <td>1.000000</td>\n",
       "      <td>1.000000</td>\n",
       "      <td>7.000000</td>\n",
       "      <td>3.000000</td>\n",
       "      <td>1960.000000</td>\n",
       "      <td>2010.000000</td>\n",
       "      <td>1975.000000</td>\n",
       "      <td>2.000000</td>\n",
       "      <td>...</td>\n",
       "      <td>17.000000</td>\n",
       "      <td>3000.000000</td>\n",
       "      <td>2907.250000</td>\n",
       "      <td>1063.000000</td>\n",
       "      <td>20018.000000</td>\n",
       "      <td>38.936071</td>\n",
       "      <td>-76.988562</td>\n",
       "      <td>8302.000000</td>\n",
       "      <td>-76.988837</td>\n",
       "      <td>38.936064</td>\n",
       "    </tr>\n",
       "    <tr>\n",
       "      <th>max</th>\n",
       "      <td>158956.000000</td>\n",
       "      <td>14.000000</td>\n",
       "      <td>11.000000</td>\n",
       "      <td>6.000000</td>\n",
       "      <td>48.000000</td>\n",
       "      <td>24.000000</td>\n",
       "      <td>2019.000000</td>\n",
       "      <td>2019.000000</td>\n",
       "      <td>2018.000000</td>\n",
       "      <td>826.000000</td>\n",
       "      <td>...</td>\n",
       "      <td>117.000000</td>\n",
       "      <td>942632.000000</td>\n",
       "      <td>5621.000000</td>\n",
       "      <td>8553.000000</td>\n",
       "      <td>20392.000000</td>\n",
       "      <td>38.995540</td>\n",
       "      <td>-76.909758</td>\n",
       "      <td>11100.000000</td>\n",
       "      <td>-76.910511</td>\n",
       "      <td>38.993646</td>\n",
       "    </tr>\n",
       "  </tbody>\n",
       "</table>\n",
       "<p>8 rows × 26 columns</p>\n",
       "</div>"
      ],
      "text/plain": [
       "          Unnamed: 0         BATHRM      HF_BATHRM      NUM_UNITS  \\\n",
       "count  158589.000000  158589.000000  158589.000000  106689.000000   \n",
       "mean    79363.904829       1.812005       0.458998       1.198052   \n",
       "std     45875.039836       0.976084       0.587505       0.596910   \n",
       "min         0.000000       0.000000       0.000000       0.000000   \n",
       "25%     39652.000000       1.000000       0.000000       1.000000   \n",
       "50%     79299.000000       2.000000       0.000000       1.000000   \n",
       "75%    118948.000000       2.000000       1.000000       1.000000   \n",
       "max    158956.000000      14.000000      11.000000       6.000000   \n",
       "\n",
       "               ROOMS          BEDRM            AYB       YR_RMDL  \\\n",
       "count  158589.000000  158589.000000  158318.000000  80563.000000   \n",
       "mean        6.194389       2.736400    1941.905260   1998.211152   \n",
       "std         2.614676       1.356997      33.623031     16.606190   \n",
       "min         0.000000       0.000000    1754.000000     20.000000   \n",
       "25%         4.000000       2.000000    1918.000000   1985.000000   \n",
       "50%         6.000000       3.000000    1937.000000   2004.000000   \n",
       "75%         7.000000       3.000000    1960.000000   2010.000000   \n",
       "max        48.000000      24.000000    2019.000000   2019.000000   \n",
       "\n",
       "                 EYB        STORIES  ...        USECODE       LANDAREA  \\\n",
       "count  158589.000000  106645.000000  ...  158589.000000  158589.000000   \n",
       "mean     1963.682349       2.091801  ...      14.247703    2475.457636   \n",
       "std        24.934876       2.933407  ...       3.728229    5042.994960   \n",
       "min      1800.000000       0.000000  ...      11.000000       0.000000   \n",
       "25%      1954.000000       2.000000  ...      11.000000     700.000000   \n",
       "50%      1963.000000       2.000000  ...      13.000000    1650.000000   \n",
       "75%      1975.000000       2.000000  ...      17.000000    3000.000000   \n",
       "max      2018.000000     826.000000  ...     117.000000  942632.000000   \n",
       "\n",
       "          CMPLX_NUM    LIVING_GBA        ZIPCODE       LATITUDE  \\\n",
       "count  51900.000000  51900.000000  158588.000000  158588.000000   \n",
       "mean    2373.204239    890.292042   20012.695292      38.914829   \n",
       "std     1116.530888    421.024133      15.643138       0.031745   \n",
       "min     1001.000000      0.000000   20001.000000      38.819731   \n",
       "25%     1499.000000    617.000000   20007.000000      38.895425   \n",
       "50%     2265.000000    785.000000   20011.000000      38.915262   \n",
       "75%     2907.250000   1063.000000   20018.000000      38.936071   \n",
       "max     5621.000000   8553.000000   20392.000000      38.995540   \n",
       "\n",
       "           LONGITUDE   CENSUS_TRACT              X              Y  \n",
       "count  158588.000000  158588.000000  158352.000000  158352.000000  \n",
       "mean      -77.016576    5351.397180     -77.016611      38.914821  \n",
       "std         0.040920    3366.622947       0.040915       0.031704  \n",
       "min       -77.113909     100.000000     -77.113135      38.820576  \n",
       "25%       -77.042803    2102.000000     -77.042806      38.895432  \n",
       "50%       -77.019479    5201.000000     -77.019473      38.915212  \n",
       "75%       -76.988562    8302.000000     -76.988837      38.936064  \n",
       "max       -76.909758   11100.000000     -76.910511      38.993646  \n",
       "\n",
       "[8 rows x 26 columns]"
      ]
     },
     "execution_count": 31,
     "metadata": {},
     "output_type": "execute_result"
    }
   ],
   "source": [
    "copydf.describe()"
   ]
  },
  {
   "cell_type": "markdown",
   "metadata": {},
   "source": [
    "After removing outlier "
   ]
  },
  {
   "cell_type": "code",
   "execution_count": 89,
   "metadata": {},
   "outputs": [
    {
     "data": {
      "text/plain": [
       "<matplotlib.axes._subplots.AxesSubplot at 0x17d0ecc9978>"
      ]
     },
     "execution_count": 89,
     "metadata": {},
     "output_type": "execute_result"
    },
    {
     "data": {
      "image/png": "[encoded data removed]",
      "text/plain": [
       "<Figure size 432x288 with 1 Axes>"
      ]
     },
     "metadata": {},
     "output_type": "display_data"
    }
   ],
   "source": [
    "PDF2 =copydf['PRICE']\n",
    "#plt.ylim(-1e8,2e8)\n",
    "sns.boxplot(data=PDF2)"
   ]
  },
  {
   "cell_type": "code",
   "execution_count": 20,
   "metadata": {},
   "outputs": [
    {
     "name": "stderr",
     "output_type": "stream",
     "text": [
      "C:\\Python\\lib\\site-packages\\statsmodels\\nonparametric\\kde.py:454: RuntimeWarning: invalid value encountered in greater\n",
      "  X = X[np.logical_and(X>clip[0], X<clip[1])] # won't work for two columns.\n",
      "C:\\Python\\lib\\site-packages\\statsmodels\\nonparametric\\kde.py:454: RuntimeWarning: invalid value encountered in less\n",
      "  X = X[np.logical_and(X>clip[0], X<clip[1])] # won't work for two columns.\n"
     ]
    },
    {
     "data": {
      "text/plain": [
       "[Text(0.5,0,'PRICE')]"
      ]
     },
     "execution_count": 20,
     "metadata": {},
     "output_type": "execute_result"
    },
    {
     "data": {
      "image/png": "[encoded data removed]",
      "text/plain": [
       "<Figure size 720x432 with 1 Axes>"
      ]
     },
     "metadata": {},
     "output_type": "display_data"
    }
   ],
   "source": [
    "#Density plot\n",
    "plt.figure(figsize=(10,6))\n",
    "\n",
    "ax = sns.kdeplot(copydf['PRICE'],\n",
    "                 shade=True)\n",
    "\n",
    "\n",
    "plt.title(\"Density Plot of PRICE \")\n",
    "\n",
    "ax.set(xlabel='PRICE')"
   ]
  },
  {
   "cell_type": "markdown",
   "metadata": {},
   "source": [
    "1.4  In this section we deal with missing values "
   ]
  },
  {
   "cell_type": "code",
   "execution_count": 23,
   "metadata": {},
   "outputs": [
    {
     "data": {
      "text/plain": [
       "(158589, 49)"
      ]
     },
     "execution_count": 23,
     "metadata": {},
     "output_type": "execute_result"
    }
   ],
   "source": [
    "copydf.shape  # From this output we can see a total of 158957 rows and 49 columns "
   ]
  },
  {
   "cell_type": "markdown",
   "metadata": {},
   "source": [
    "The following table shows missing values for some variables(columns)"
   ]
  },
  {
   "cell_type": "code",
   "execution_count": 26,
   "metadata": {},
   "outputs": [
    {
     "data": {
      "text/plain": [
       "Unnamed: 0            158589\n",
       "BATHRM                158589\n",
       "HF_BATHRM             158589\n",
       "HEAT                  158589\n",
       "AC                    158589\n",
       "NUM_UNITS             106689\n",
       "ROOMS                 158589\n",
       "BEDRM                 158589\n",
       "AYB                   158318\n",
       "YR_RMDL                80563\n",
       "EYB                   158589\n",
       "STORIES               106645\n",
       "SALEDATE              131819\n",
       "PRICE                  97848\n",
       "QUALIFIED             158589\n",
       "SALE_NUM              158589\n",
       "GBA                   106689\n",
       "BLDG_NUM              158589\n",
       "STYLE                 106689\n",
       "STRUCT                106689\n",
       "GRADE                 106689\n",
       "CNDTN                 106689\n",
       "EXTWALL               106689\n",
       "ROOF                  106689\n",
       "INTWALL               106689\n",
       "KITCHENS              106688\n",
       "FIREPLACES            158589\n",
       "USECODE               158589\n",
       "LANDAREA              158589\n",
       "GIS_LAST_MOD_DTTM     158589\n",
       "SOURCE                158589\n",
       "CMPLX_NUM              51900\n",
       "LIVING_GBA             51900\n",
       "FULLADDRESS           106033\n",
       "CITY                  106044\n",
       "STATE                 106044\n",
       "ZIPCODE               158588\n",
       "NATIONALGRID          106044\n",
       "LATITUDE              158588\n",
       "LONGITUDE             158588\n",
       "ASSESSMENT_NBHD       158588\n",
       "ASSESSMENT_SUBNBHD    126401\n",
       "CENSUS_TRACT          158588\n",
       "CENSUS_BLOCK          106044\n",
       "WARD                  158588\n",
       "SQUARE                158589\n",
       "X                     158352\n",
       "Y                     158352\n",
       "QUADRANT              158352\n",
       "dtype: int64"
      ]
     },
     "execution_count": 26,
     "metadata": {},
     "output_type": "execute_result"
    }
   ],
   "source": [
    "copydf.count()  ### Number of rows for each columns"
   ]
  },
  {
   "cell_type": "code",
   "execution_count": 25,
   "metadata": {},
   "outputs": [
    {
     "data": {
      "text/html": [
       "<div>\n",
       "<style scoped>\n",
       "    .dataframe tbody tr th:only-of-type {\n",
       "        vertical-align: middle;\n",
       "    }\n",
       "\n",
       "    .dataframe tbody tr th {\n",
       "        vertical-align: top;\n",
       "    }\n",
       "\n",
       "    .dataframe thead th {\n",
       "        text-align: right;\n",
       "    }\n",
       "</style>\n",
       "<table border=\"1\" class=\"dataframe\">\n",
       "  <thead>\n",
       "    <tr style=\"text-align: right;\">\n",
       "      <th></th>\n",
       "      <th>Unnamed: 0</th>\n",
       "      <th>BATHRM</th>\n",
       "      <th>HF_BATHRM</th>\n",
       "      <th>NUM_UNITS</th>\n",
       "      <th>ROOMS</th>\n",
       "      <th>BEDRM</th>\n",
       "      <th>AYB</th>\n",
       "      <th>YR_RMDL</th>\n",
       "      <th>EYB</th>\n",
       "      <th>STORIES</th>\n",
       "      <th>...</th>\n",
       "      <th>USECODE</th>\n",
       "      <th>LANDAREA</th>\n",
       "      <th>CMPLX_NUM</th>\n",
       "      <th>LIVING_GBA</th>\n",
       "      <th>ZIPCODE</th>\n",
       "      <th>LATITUDE</th>\n",
       "      <th>LONGITUDE</th>\n",
       "      <th>CENSUS_TRACT</th>\n",
       "      <th>X</th>\n",
       "      <th>Y</th>\n",
       "    </tr>\n",
       "  </thead>\n",
       "  <tbody>\n",
       "    <tr>\n",
       "      <th>count</th>\n",
       "      <td>97848.000000</td>\n",
       "      <td>97848.000000</td>\n",
       "      <td>97848.000000</td>\n",
       "      <td>57893.000000</td>\n",
       "      <td>97848.000000</td>\n",
       "      <td>97848.000000</td>\n",
       "      <td>97736.000000</td>\n",
       "      <td>57309.000000</td>\n",
       "      <td>97848.000000</td>\n",
       "      <td>57860.000000</td>\n",
       "      <td>...</td>\n",
       "      <td>97848.000000</td>\n",
       "      <td>97848.000000</td>\n",
       "      <td>39955.000000</td>\n",
       "      <td>39955.000000</td>\n",
       "      <td>97848.000000</td>\n",
       "      <td>97848.000000</td>\n",
       "      <td>97848.000000</td>\n",
       "      <td>97848.000000</td>\n",
       "      <td>97747.000000</td>\n",
       "      <td>97747.000000</td>\n",
       "    </tr>\n",
       "    <tr>\n",
       "      <th>mean</th>\n",
       "      <td>85161.214884</td>\n",
       "      <td>1.861489</td>\n",
       "      <td>0.445722</td>\n",
       "      <td>1.221098</td>\n",
       "      <td>5.931618</td>\n",
       "      <td>2.612317</td>\n",
       "      <td>1944.781524</td>\n",
       "      <td>2000.636654</td>\n",
       "      <td>1965.709733</td>\n",
       "      <td>2.124686</td>\n",
       "      <td>...</td>\n",
       "      <td>14.606165</td>\n",
       "      <td>2086.359118</td>\n",
       "      <td>2445.235140</td>\n",
       "      <td>883.923214</td>\n",
       "      <td>20012.303236</td>\n",
       "      <td>38.913867</td>\n",
       "      <td>-77.017919</td>\n",
       "      <td>5294.645583</td>\n",
       "      <td>-77.017943</td>\n",
       "      <td>38.913858</td>\n",
       "    </tr>\n",
       "    <tr>\n",
       "      <th>std</th>\n",
       "      <td>47642.695086</td>\n",
       "      <td>0.977711</td>\n",
       "      <td>0.576093</td>\n",
       "      <td>0.623975</td>\n",
       "      <td>2.633308</td>\n",
       "      <td>1.391526</td>\n",
       "      <td>36.247965</td>\n",
       "      <td>16.183546</td>\n",
       "      <td>27.530566</td>\n",
       "      <td>3.948987</td>\n",
       "      <td>...</td>\n",
       "      <td>3.688147</td>\n",
       "      <td>2705.453130</td>\n",
       "      <td>1139.919833</td>\n",
       "      <td>407.040367</td>\n",
       "      <td>16.354462</td>\n",
       "      <td>0.030216</td>\n",
       "      <td>0.039764</td>\n",
       "      <td>3283.044860</td>\n",
       "      <td>0.039757</td>\n",
       "      <td>0.030192</td>\n",
       "    </tr>\n",
       "    <tr>\n",
       "      <th>min</th>\n",
       "      <td>0.000000</td>\n",
       "      <td>0.000000</td>\n",
       "      <td>0.000000</td>\n",
       "      <td>0.000000</td>\n",
       "      <td>0.000000</td>\n",
       "      <td>0.000000</td>\n",
       "      <td>1754.000000</td>\n",
       "      <td>20.000000</td>\n",
       "      <td>1800.000000</td>\n",
       "      <td>0.000000</td>\n",
       "      <td>...</td>\n",
       "      <td>11.000000</td>\n",
       "      <td>0.000000</td>\n",
       "      <td>1001.000000</td>\n",
       "      <td>199.000000</td>\n",
       "      <td>20001.000000</td>\n",
       "      <td>38.819731</td>\n",
       "      <td>-77.113909</td>\n",
       "      <td>100.000000</td>\n",
       "      <td>-77.113135</td>\n",
       "      <td>38.820576</td>\n",
       "    </tr>\n",
       "    <tr>\n",
       "      <th>25%</th>\n",
       "      <td>42811.750000</td>\n",
       "      <td>1.000000</td>\n",
       "      <td>0.000000</td>\n",
       "      <td>1.000000</td>\n",
       "      <td>4.000000</td>\n",
       "      <td>2.000000</td>\n",
       "      <td>1917.000000</td>\n",
       "      <td>1991.000000</td>\n",
       "      <td>1954.000000</td>\n",
       "      <td>2.000000</td>\n",
       "      <td>...</td>\n",
       "      <td>11.000000</td>\n",
       "      <td>486.000000</td>\n",
       "      <td>1575.000000</td>\n",
       "      <td>620.000000</td>\n",
       "      <td>20005.000000</td>\n",
       "      <td>38.895924</td>\n",
       "      <td>-77.042707</td>\n",
       "      <td>2202.000000</td>\n",
       "      <td>-77.042709</td>\n",
       "      <td>38.895653</td>\n",
       "    </tr>\n",
       "    <tr>\n",
       "      <th>50%</th>\n",
       "      <td>89118.500000</td>\n",
       "      <td>2.000000</td>\n",
       "      <td>0.000000</td>\n",
       "      <td>1.000000</td>\n",
       "      <td>6.000000</td>\n",
       "      <td>3.000000</td>\n",
       "      <td>1938.000000</td>\n",
       "      <td>2005.000000</td>\n",
       "      <td>1965.000000</td>\n",
       "      <td>2.000000</td>\n",
       "      <td>...</td>\n",
       "      <td>13.000000</td>\n",
       "      <td>1388.000000</td>\n",
       "      <td>2284.000000</td>\n",
       "      <td>784.000000</td>\n",
       "      <td>20010.000000</td>\n",
       "      <td>38.913911</td>\n",
       "      <td>-77.021292</td>\n",
       "      <td>5002.000000</td>\n",
       "      <td>-77.021174</td>\n",
       "      <td>38.913953</td>\n",
       "    </tr>\n",
       "    <tr>\n",
       "      <th>75%</th>\n",
       "      <td>128115.250000</td>\n",
       "      <td>2.000000</td>\n",
       "      <td>1.000000</td>\n",
       "      <td>1.000000</td>\n",
       "      <td>7.000000</td>\n",
       "      <td>3.000000</td>\n",
       "      <td>1966.000000</td>\n",
       "      <td>2011.000000</td>\n",
       "      <td>1981.000000</td>\n",
       "      <td>2.000000</td>\n",
       "      <td>...</td>\n",
       "      <td>17.000000</td>\n",
       "      <td>2563.000000</td>\n",
       "      <td>2972.000000</td>\n",
       "      <td>1050.000000</td>\n",
       "      <td>20017.000000</td>\n",
       "      <td>38.933676</td>\n",
       "      <td>-76.990519</td>\n",
       "      <td>8100.000000</td>\n",
       "      <td>-76.990753</td>\n",
       "      <td>38.933633</td>\n",
       "    </tr>\n",
       "    <tr>\n",
       "      <th>max</th>\n",
       "      <td>158955.000000</td>\n",
       "      <td>12.000000</td>\n",
       "      <td>11.000000</td>\n",
       "      <td>6.000000</td>\n",
       "      <td>30.000000</td>\n",
       "      <td>20.000000</td>\n",
       "      <td>2018.000000</td>\n",
       "      <td>2019.000000</td>\n",
       "      <td>2018.000000</td>\n",
       "      <td>826.000000</td>\n",
       "      <td>...</td>\n",
       "      <td>117.000000</td>\n",
       "      <td>187301.000000</td>\n",
       "      <td>5621.000000</td>\n",
       "      <td>8553.000000</td>\n",
       "      <td>20392.000000</td>\n",
       "      <td>38.995435</td>\n",
       "      <td>-76.909758</td>\n",
       "      <td>11100.000000</td>\n",
       "      <td>-76.910511</td>\n",
       "      <td>38.993646</td>\n",
       "    </tr>\n",
       "  </tbody>\n",
       "</table>\n",
       "<p>8 rows × 26 columns</p>\n",
       "</div>"
      ],
      "text/plain": [
       "          Unnamed: 0        BATHRM     HF_BATHRM     NUM_UNITS         ROOMS  \\\n",
       "count   97848.000000  97848.000000  97848.000000  57893.000000  97848.000000   \n",
       "mean    85161.214884      1.861489      0.445722      1.221098      5.931618   \n",
       "std     47642.695086      0.977711      0.576093      0.623975      2.633308   \n",
       "min         0.000000      0.000000      0.000000      0.000000      0.000000   \n",
       "25%     42811.750000      1.000000      0.000000      1.000000      4.000000   \n",
       "50%     89118.500000      2.000000      0.000000      1.000000      6.000000   \n",
       "75%    128115.250000      2.000000      1.000000      1.000000      7.000000   \n",
       "max    158955.000000     12.000000     11.000000      6.000000     30.000000   \n",
       "\n",
       "              BEDRM           AYB       YR_RMDL           EYB       STORIES  \\\n",
       "count  97848.000000  97736.000000  57309.000000  97848.000000  57860.000000   \n",
       "mean       2.612317   1944.781524   2000.636654   1965.709733      2.124686   \n",
       "std        1.391526     36.247965     16.183546     27.530566      3.948987   \n",
       "min        0.000000   1754.000000     20.000000   1800.000000      0.000000   \n",
       "25%        2.000000   1917.000000   1991.000000   1954.000000      2.000000   \n",
       "50%        3.000000   1938.000000   2005.000000   1965.000000      2.000000   \n",
       "75%        3.000000   1966.000000   2011.000000   1981.000000      2.000000   \n",
       "max       20.000000   2018.000000   2019.000000   2018.000000    826.000000   \n",
       "\n",
       "       ...       USECODE       LANDAREA     CMPLX_NUM    LIVING_GBA  \\\n",
       "count  ...  97848.000000   97848.000000  39955.000000  39955.000000   \n",
       "mean   ...     14.606165    2086.359118   2445.235140    883.923214   \n",
       "std    ...      3.688147    2705.453130   1139.919833    407.040367   \n",
       "min    ...     11.000000       0.000000   1001.000000    199.000000   \n",
       "25%    ...     11.000000     486.000000   1575.000000    620.000000   \n",
       "50%    ...     13.000000    1388.000000   2284.000000    784.000000   \n",
       "75%    ...     17.000000    2563.000000   2972.000000   1050.000000   \n",
       "max    ...    117.000000  187301.000000   5621.000000   8553.000000   \n",
       "\n",
       "            ZIPCODE      LATITUDE     LONGITUDE  CENSUS_TRACT             X  \\\n",
       "count  97848.000000  97848.000000  97848.000000  97848.000000  97747.000000   \n",
       "mean   20012.303236     38.913867    -77.017919   5294.645583    -77.017943   \n",
       "std       16.354462      0.030216      0.039764   3283.044860      0.039757   \n",
       "min    20001.000000     38.819731    -77.113909    100.000000    -77.113135   \n",
       "25%    20005.000000     38.895924    -77.042707   2202.000000    -77.042709   \n",
       "50%    20010.000000     38.913911    -77.021292   5002.000000    -77.021174   \n",
       "75%    20017.000000     38.933676    -76.990519   8100.000000    -76.990753   \n",
       "max    20392.000000     38.995435    -76.909758  11100.000000    -76.910511   \n",
       "\n",
       "                  Y  \n",
       "count  97747.000000  \n",
       "mean      38.913858  \n",
       "std        0.030192  \n",
       "min       38.820576  \n",
       "25%       38.895653  \n",
       "50%       38.913953  \n",
       "75%       38.933633  \n",
       "max       38.993646  \n",
       "\n",
       "[8 rows x 26 columns]"
      ]
     },
     "execution_count": 25,
     "metadata": {},
     "output_type": "execute_result"
    }
   ],
   "source": [
    "#drop rows with any missing data\n",
    "dfnew = copydf[pd.notnull(copydf['PRICE'])]\n",
    "dfnew.describe()"
   ]
  },
  {
   "cell_type": "markdown",
   "metadata": {},
   "source": [
    "2. EXPLORATORY ANALYSIS "
   ]
  },
  {
   "cell_type": "code",
   "execution_count": 27,
   "metadata": {},
   "outputs": [
    {
     "data": {
      "text/plain": [
       "count    9.784800e+04\n",
       "mean     5.278485e+05\n",
       "std      5.977699e+05\n",
       "min      1.000000e+00\n",
       "25%      2.400000e+05\n",
       "50%      3.999000e+05\n",
       "75%      6.500000e+05\n",
       "max      1.415713e+07\n",
       "Name: PRICE, dtype: float64"
      ]
     },
     "execution_count": 27,
     "metadata": {},
     "output_type": "execute_result"
    }
   ],
   "source": [
    "dfnew.describe().PRICE"
   ]
  },
  {
   "cell_type": "code",
   "execution_count": 31,
   "metadata": {},
   "outputs": [
    {
     "data": {
      "text/html": [
       "<div>\n",
       "<style scoped>\n",
       "    .dataframe tbody tr th:only-of-type {\n",
       "        vertical-align: middle;\n",
       "    }\n",
       "\n",
       "    .dataframe tbody tr th {\n",
       "        vertical-align: top;\n",
       "    }\n",
       "\n",
       "    .dataframe thead th {\n",
       "        text-align: right;\n",
       "    }\n",
       "</style>\n",
       "<table border=\"1\" class=\"dataframe\">\n",
       "  <thead>\n",
       "    <tr style=\"text-align: right;\">\n",
       "      <th></th>\n",
       "      <th>PRICE</th>\n",
       "    </tr>\n",
       "    <tr>\n",
       "      <th>QUADRANT</th>\n",
       "      <th></th>\n",
       "    </tr>\n",
       "  </thead>\n",
       "  <tbody>\n",
       "    <tr>\n",
       "      <th>NE</th>\n",
       "      <td>392871.547763</td>\n",
       "    </tr>\n",
       "    <tr>\n",
       "      <th>NW</th>\n",
       "      <td>632856.517928</td>\n",
       "    </tr>\n",
       "    <tr>\n",
       "      <th>SE</th>\n",
       "      <td>365112.606875</td>\n",
       "    </tr>\n",
       "    <tr>\n",
       "      <th>SW</th>\n",
       "      <td>347048.948019</td>\n",
       "    </tr>\n",
       "  </tbody>\n",
       "</table>\n",
       "</div>"
      ],
      "text/plain": [
       "                  PRICE\n",
       "QUADRANT               \n",
       "NE        392871.547763\n",
       "NW        632856.517928\n",
       "SE        365112.606875\n",
       "SW        347048.948019"
      ]
     },
     "execution_count": 31,
     "metadata": {},
     "output_type": "execute_result"
    }
   ],
   "source": [
    "pd.pivot_table(dfnew, values=['PRICE'], index=['QUADRANT'])"
   ]
  },
  {
   "cell_type": "markdown",
   "metadata": {},
   "source": [
    "The table shows the average price of houses by quadrant. The price is high in NW followed by NE"
   ]
  },
  {
   "cell_type": "code",
   "execution_count": 32,
   "metadata": {},
   "outputs": [
    {
     "data": {
      "text/plain": [
       "WARD\n",
       "Ward 1    573836.311714\n",
       "Ward 2    686519.347544\n",
       "Ward 3    770604.211288\n",
       "Ward 4    489922.405538\n",
       "Ward 5    395243.226660\n",
       "Ward 6    526868.437066\n",
       "Ward 7    233922.176043\n",
       "Ward 8    263623.662416\n",
       "Name: PRICE, dtype: float64"
      ]
     },
     "execution_count": 32,
     "metadata": {},
     "output_type": "execute_result"
    }
   ],
   "source": [
    "dfnew.groupby('WARD')['PRICE'].mean()"
   ]
  },
  {
   "cell_type": "markdown",
   "metadata": {},
   "source": [
    "The above table shows the average price of houses by ward. The price is high in Ward 3 followed by Ward 2."
   ]
  },
  {
   "cell_type": "code",
   "execution_count": null,
   "metadata": {},
   "outputs": [],
   "source": []
  },
  {
   "cell_type": "raw",
   "metadata": {},
   "source": [
    "PROJECT 2\n",
    "Exploring DC property data by visualization techniques to get an idea in identifying predictive features for the price of a house. "
   ]
  },
  {
   "cell_type": "code",
   "execution_count": 28,
   "metadata": {},
   "outputs": [
    {
     "data": {
      "text/html": [
       "<div>\n",
       "<style scoped>\n",
       "    .dataframe tbody tr th:only-of-type {\n",
       "        vertical-align: middle;\n",
       "    }\n",
       "\n",
       "    .dataframe tbody tr th {\n",
       "        vertical-align: top;\n",
       "    }\n",
       "\n",
       "    .dataframe thead th {\n",
       "        text-align: right;\n",
       "    }\n",
       "</style>\n",
       "<table border=\"1\" class=\"dataframe\">\n",
       "  <thead>\n",
       "    <tr style=\"text-align: right;\">\n",
       "      <th></th>\n",
       "      <th>BATHRM</th>\n",
       "      <th>HF_BATHRM</th>\n",
       "      <th>HEAT</th>\n",
       "      <th>AC</th>\n",
       "      <th>ROOMS</th>\n",
       "      <th>BEDRM</th>\n",
       "      <th>AYB</th>\n",
       "      <th>PRICE</th>\n",
       "      <th>YR_RMDL</th>\n",
       "      <th>SALEDATE</th>\n",
       "      <th>GBA</th>\n",
       "      <th>STYLE</th>\n",
       "      <th>GRADE</th>\n",
       "      <th>CNDTN</th>\n",
       "      <th>LANDAREA</th>\n",
       "      <th>WARD</th>\n",
       "      <th>QUADRANT</th>\n",
       "    </tr>\n",
       "  </thead>\n",
       "  <tbody>\n",
       "    <tr>\n",
       "      <th>0</th>\n",
       "      <td>4</td>\n",
       "      <td>0</td>\n",
       "      <td>Warm Cool</td>\n",
       "      <td>Y</td>\n",
       "      <td>8</td>\n",
       "      <td>4</td>\n",
       "      <td>1910.0</td>\n",
       "      <td>1095000.0</td>\n",
       "      <td>1988.0</td>\n",
       "      <td>2003-11-25 00:00:00</td>\n",
       "      <td>2522.0</td>\n",
       "      <td>3 Story</td>\n",
       "      <td>Very Good</td>\n",
       "      <td>Good</td>\n",
       "      <td>1680</td>\n",
       "      <td>Ward 2</td>\n",
       "      <td>NW</td>\n",
       "    </tr>\n",
       "    <tr>\n",
       "      <th>1</th>\n",
       "      <td>3</td>\n",
       "      <td>1</td>\n",
       "      <td>Warm Cool</td>\n",
       "      <td>Y</td>\n",
       "      <td>11</td>\n",
       "      <td>5</td>\n",
       "      <td>1898.0</td>\n",
       "      <td>NaN</td>\n",
       "      <td>2007.0</td>\n",
       "      <td>2000-08-17 00:00:00</td>\n",
       "      <td>2567.0</td>\n",
       "      <td>3 Story</td>\n",
       "      <td>Very Good</td>\n",
       "      <td>Good</td>\n",
       "      <td>1680</td>\n",
       "      <td>Ward 2</td>\n",
       "      <td>NW</td>\n",
       "    </tr>\n",
       "    <tr>\n",
       "      <th>2</th>\n",
       "      <td>3</td>\n",
       "      <td>1</td>\n",
       "      <td>Hot Water Rad</td>\n",
       "      <td>Y</td>\n",
       "      <td>9</td>\n",
       "      <td>5</td>\n",
       "      <td>1910.0</td>\n",
       "      <td>2100000.0</td>\n",
       "      <td>2009.0</td>\n",
       "      <td>2016-06-21 00:00:00</td>\n",
       "      <td>2522.0</td>\n",
       "      <td>3 Story</td>\n",
       "      <td>Very Good</td>\n",
       "      <td>Very Good</td>\n",
       "      <td>1680</td>\n",
       "      <td>Ward 2</td>\n",
       "      <td>NW</td>\n",
       "    </tr>\n",
       "    <tr>\n",
       "      <th>3</th>\n",
       "      <td>3</td>\n",
       "      <td>1</td>\n",
       "      <td>Hot Water Rad</td>\n",
       "      <td>Y</td>\n",
       "      <td>8</td>\n",
       "      <td>5</td>\n",
       "      <td>1900.0</td>\n",
       "      <td>1602000.0</td>\n",
       "      <td>2003.0</td>\n",
       "      <td>2006-07-12 00:00:00</td>\n",
       "      <td>2484.0</td>\n",
       "      <td>3 Story</td>\n",
       "      <td>Very Good</td>\n",
       "      <td>Good</td>\n",
       "      <td>1680</td>\n",
       "      <td>Ward 2</td>\n",
       "      <td>NW</td>\n",
       "    </tr>\n",
       "    <tr>\n",
       "      <th>4</th>\n",
       "      <td>2</td>\n",
       "      <td>1</td>\n",
       "      <td>Warm Cool</td>\n",
       "      <td>Y</td>\n",
       "      <td>11</td>\n",
       "      <td>3</td>\n",
       "      <td>1913.0</td>\n",
       "      <td>NaN</td>\n",
       "      <td>2012.0</td>\n",
       "      <td>NaN</td>\n",
       "      <td>5255.0</td>\n",
       "      <td>3 Story</td>\n",
       "      <td>Very Good</td>\n",
       "      <td>Good</td>\n",
       "      <td>2032</td>\n",
       "      <td>Ward 2</td>\n",
       "      <td>NW</td>\n",
       "    </tr>\n",
       "  </tbody>\n",
       "</table>\n",
       "</div>"
      ],
      "text/plain": [
       "   BATHRM  HF_BATHRM           HEAT AC  ROOMS  BEDRM     AYB      PRICE  \\\n",
       "0       4          0      Warm Cool  Y      8      4  1910.0  1095000.0   \n",
       "1       3          1      Warm Cool  Y     11      5  1898.0        NaN   \n",
       "2       3          1  Hot Water Rad  Y      9      5  1910.0  2100000.0   \n",
       "3       3          1  Hot Water Rad  Y      8      5  1900.0  1602000.0   \n",
       "4       2          1      Warm Cool  Y     11      3  1913.0        NaN   \n",
       "\n",
       "   YR_RMDL             SALEDATE     GBA    STYLE      GRADE      CNDTN  \\\n",
       "0   1988.0  2003-11-25 00:00:00  2522.0  3 Story  Very Good       Good   \n",
       "1   2007.0  2000-08-17 00:00:00  2567.0  3 Story  Very Good       Good   \n",
       "2   2009.0  2016-06-21 00:00:00  2522.0  3 Story  Very Good  Very Good   \n",
       "3   2003.0  2006-07-12 00:00:00  2484.0  3 Story  Very Good       Good   \n",
       "4   2012.0                  NaN  5255.0  3 Story  Very Good       Good   \n",
       "\n",
       "   LANDAREA    WARD QUADRANT  \n",
       "0      1680  Ward 2       NW  \n",
       "1      1680  Ward 2       NW  \n",
       "2      1680  Ward 2       NW  \n",
       "3      1680  Ward 2       NW  \n",
       "4      2032  Ward 2       NW  "
      ]
     },
     "execution_count": 28,
     "metadata": {},
     "output_type": "execute_result"
    }
   ],
   "source": [
    "df3 = df[['BATHRM','HF_BATHRM','HEAT','AC','ROOMS','BEDRM','AYB','PRICE','YR_RMDL','SALEDATE','GBA',\n",
    "          'STYLE','GRADE','CNDTN','LANDAREA','WARD','QUADRANT']]\n",
    "df3.head()"
   ]
  },
  {
   "cell_type": "code",
   "execution_count": 35,
   "metadata": {
    "scrolled": true
   },
   "outputs": [
    {
     "data": {
      "text/plain": [
       "<seaborn.axisgrid.FacetGrid at 0x17d0ece0630>"
      ]
     },
     "execution_count": 35,
     "metadata": {},
     "output_type": "execute_result"
    },
    {
     "data": {
      "image/png": "[encoded data removed]",
      "text/plain": [
       "<Figure size 360x360 with 1 Axes>"
      ]
     },
     "metadata": {},
     "output_type": "display_data"
    }
   ],
   "source": [
    "sns.lmplot(x='GBA', y='PRICE', data=dfnew)"
   ]
  },
  {
   "cell_type": "code",
   "execution_count": 37,
   "metadata": {},
   "outputs": [
    {
     "data": {
      "text/plain": [
       "<seaborn.axisgrid.FacetGrid at 0x17d0edd6a58>"
      ]
     },
     "execution_count": 37,
     "metadata": {},
     "output_type": "execute_result"
    },
    {
     "data": {
      "image/png": "[encoded data removed]",
      "text/plain": [
       "<Figure size 360x360 with 1 Axes>"
      ]
     },
     "metadata": {},
     "output_type": "display_data"
    }
   ],
   "source": [
    "sns.lmplot(x='LANDAREA', y='PRICE', data=dfnew)"
   ]
  },
  {
   "cell_type": "code",
   "execution_count": 39,
   "metadata": {},
   "outputs": [
    {
     "data": {
      "text/plain": [
       "<seaborn.axisgrid.FacetGrid at 0x17d0f8af518>"
      ]
     },
     "execution_count": 39,
     "metadata": {},
     "output_type": "execute_result"
    },
    {
     "data": {
      "image/png": "[encoded data removed]",
      "text/plain": [
       "<Figure size 360x360 with 1 Axes>"
      ]
     },
     "metadata": {},
     "output_type": "display_data"
    }
   ],
   "source": [
    "sns.lmplot(x='LIVING_GBA', y='PRICE', data=dfnew)"
   ]
  },
  {
   "cell_type": "code",
   "execution_count": 40,
   "metadata": {},
   "outputs": [
    {
     "data": {
      "text/plain": [
       "<matplotlib.axes._subplots.AxesSubplot at 0x17d136ed7b8>"
      ]
     },
     "execution_count": 40,
     "metadata": {},
     "output_type": "execute_result"
    },
    {
     "data": {
      "image/png": "[encoded data removed]",
      "text/plain": [
       "<Figure size 432x288 with 1 Axes>"
      ]
     },
     "metadata": {},
     "output_type": "display_data"
    }
   ],
   "source": [
    "#bar chart of properties with AC and non AC\n",
    "sns.countplot(x='AC', data=dfnew)\n"
   ]
  },
  {
   "cell_type": "code",
   "execution_count": 41,
   "metadata": {},
   "outputs": [
    {
     "data": {
      "text/plain": [
       "<matplotlib.axes._subplots.AxesSubplot at 0x17d0f574748>"
      ]
     },
     "execution_count": 41,
     "metadata": {},
     "output_type": "execute_result"
    },
    {
     "data": {
      "image/png": "[encoded data removed]",
      "text/plain": [
       "<Figure size 432x288 with 1 Axes>"
      ]
     },
     "metadata": {},
     "output_type": "display_data"
    }
   ],
   "source": [
    "sns.countplot(x='WARD', data=dfnew)"
   ]
  },
  {
   "cell_type": "code",
   "execution_count": 42,
   "metadata": {},
   "outputs": [
    {
     "data": {
      "text/plain": [
       "<matplotlib.axes._subplots.AxesSubplot at 0x17d137b6fd0>"
      ]
     },
     "execution_count": 42,
     "metadata": {},
     "output_type": "execute_result"
    },
    {
     "data": {
      "image/png": "[encoded data removed]",
      "text/plain": [
       "<Figure size 432x288 with 1 Axes>"
      ]
     },
     "metadata": {},
     "output_type": "display_data"
    }
   ],
   "source": [
    "sns.countplot(x='QUADRANT', data=dfnew)"
   ]
  },
  {
   "cell_type": "code",
   "execution_count": 43,
   "metadata": {},
   "outputs": [
    {
     "data": {
      "text/plain": [
       "<matplotlib.axes._subplots.AxesSubplot at 0x17d137e8588>"
      ]
     },
     "execution_count": 43,
     "metadata": {},
     "output_type": "execute_result"
    },
    {
     "data": {
      "image/png": "[encoded data removed]",
      "text/plain": [
       "<Figure size 432x288 with 1 Axes>"
      ]
     },
     "metadata": {},
     "output_type": "display_data"
    }
   ],
   "source": [
    "sns.countplot(x='HEAT', data=dfnew)"
   ]
  },
  {
   "cell_type": "code",
   "execution_count": 36,
   "metadata": {},
   "outputs": [
    {
     "data": {
      "text/plain": [
       "<matplotlib.axes._subplots.AxesSubplot at 0x17d0ece3eb8>"
      ]
     },
     "execution_count": 36,
     "metadata": {},
     "output_type": "execute_result"
    },
    {
     "data": {
      "image/png": "[encoded data removed]",
      "text/plain": [
       "<Figure size 936x504 with 1 Axes>"
      ]
     },
     "metadata": {},
     "output_type": "display_data"
    }
   ],
   "source": [
    "plt.subplots(figsize=(13,7))\n",
    "\n",
    "#violin plot shows the distribution of attack power for each type\n",
    "sns.violinplot(x='WARD', y='PRICE', data=dfnew)"
   ]
  },
  {
   "cell_type": "code",
   "execution_count": 52,
   "metadata": {},
   "outputs": [
    {
     "data": {
      "image/png": "[encoded data removed]",
      "text/plain": [
       "<Figure size 432x288 with 1 Axes>"
      ]
     },
     "metadata": {},
     "output_type": "display_data"
    }
   ],
   "source": [
    "#compare number of rooms to home price\n",
    "plt.scatter(dfnew2['ROOMS'], dfnew2['PRICE']) \n",
    "plt.xlabel(\"Average number of rooms per dwelling (RM)\") \n",
    "plt.ylabel(\"Housing Price\") \n",
    "plt.title(\"Relationship between Room and Price\") \n",
    "plt.show()"
   ]
  },
  {
   "cell_type": "code",
   "execution_count": 53,
   "metadata": {},
   "outputs": [
    {
     "data": {
      "image/png": "[encoded data removed]",
      "text/plain": [
       "<Figure size 432x288 with 1 Axes>"
      ]
     },
     "metadata": {},
     "output_type": "display_data"
    }
   ],
   "source": [
    "plt.scatter(dfnew2['BATHRM'], dfnew2['PRICE']) \n",
    "plt.xlabel(\"Average number of rooms per dwelling (RM)\") \n",
    "plt.ylabel(\"Housing Price\") \n",
    "plt.title(\"Relationship between Room and Price\") \n",
    "plt.show()"
   ]
  },
  {
   "cell_type": "code",
   "execution_count": 46,
   "metadata": {},
   "outputs": [
    {
     "data": {
      "text/html": [
       "<div>\n",
       "<style scoped>\n",
       "    .dataframe tbody tr th:only-of-type {\n",
       "        vertical-align: middle;\n",
       "    }\n",
       "\n",
       "    .dataframe tbody tr th {\n",
       "        vertical-align: top;\n",
       "    }\n",
       "\n",
       "    .dataframe thead th {\n",
       "        text-align: right;\n",
       "    }\n",
       "</style>\n",
       "<table border=\"1\" class=\"dataframe\">\n",
       "  <thead>\n",
       "    <tr style=\"text-align: right;\">\n",
       "      <th></th>\n",
       "      <th>PRICE</th>\n",
       "      <th>BATHRM</th>\n",
       "      <th>HF_BATHRM</th>\n",
       "      <th>ROOMS</th>\n",
       "      <th>BEDRM</th>\n",
       "      <th>AYB</th>\n",
       "      <th>GBA</th>\n",
       "      <th>LANDAREA</th>\n",
       "    </tr>\n",
       "  </thead>\n",
       "  <tbody>\n",
       "    <tr>\n",
       "      <th>PRICE</th>\n",
       "      <td>1.000000</td>\n",
       "      <td>0.420305</td>\n",
       "      <td>0.235291</td>\n",
       "      <td>0.274292</td>\n",
       "      <td>0.283528</td>\n",
       "      <td>-0.035325</td>\n",
       "      <td>0.613021</td>\n",
       "      <td>0.256036</td>\n",
       "    </tr>\n",
       "    <tr>\n",
       "      <th>BATHRM</th>\n",
       "      <td>0.420305</td>\n",
       "      <td>1.000000</td>\n",
       "      <td>0.292055</td>\n",
       "      <td>0.709537</td>\n",
       "      <td>0.708634</td>\n",
       "      <td>-0.068478</td>\n",
       "      <td>0.696702</td>\n",
       "      <td>0.444378</td>\n",
       "    </tr>\n",
       "    <tr>\n",
       "      <th>HF_BATHRM</th>\n",
       "      <td>0.235291</td>\n",
       "      <td>0.292055</td>\n",
       "      <td>1.000000</td>\n",
       "      <td>0.392250</td>\n",
       "      <td>0.413532</td>\n",
       "      <td>-0.042940</td>\n",
       "      <td>0.254083</td>\n",
       "      <td>0.324128</td>\n",
       "    </tr>\n",
       "    <tr>\n",
       "      <th>ROOMS</th>\n",
       "      <td>0.274292</td>\n",
       "      <td>0.709537</td>\n",
       "      <td>0.392250</td>\n",
       "      <td>1.000000</td>\n",
       "      <td>0.847021</td>\n",
       "      <td>-0.222246</td>\n",
       "      <td>0.679271</td>\n",
       "      <td>0.519852</td>\n",
       "    </tr>\n",
       "    <tr>\n",
       "      <th>BEDRM</th>\n",
       "      <td>0.283528</td>\n",
       "      <td>0.708634</td>\n",
       "      <td>0.413532</td>\n",
       "      <td>0.847021</td>\n",
       "      <td>1.000000</td>\n",
       "      <td>-0.245185</td>\n",
       "      <td>0.646262</td>\n",
       "      <td>0.521318</td>\n",
       "    </tr>\n",
       "    <tr>\n",
       "      <th>AYB</th>\n",
       "      <td>-0.035325</td>\n",
       "      <td>-0.068478</td>\n",
       "      <td>-0.042940</td>\n",
       "      <td>-0.222246</td>\n",
       "      <td>-0.245185</td>\n",
       "      <td>1.000000</td>\n",
       "      <td>0.037411</td>\n",
       "      <td>-0.087834</td>\n",
       "    </tr>\n",
       "    <tr>\n",
       "      <th>GBA</th>\n",
       "      <td>0.613021</td>\n",
       "      <td>0.696702</td>\n",
       "      <td>0.254083</td>\n",
       "      <td>0.679271</td>\n",
       "      <td>0.646262</td>\n",
       "      <td>0.037411</td>\n",
       "      <td>1.000000</td>\n",
       "      <td>0.492381</td>\n",
       "    </tr>\n",
       "    <tr>\n",
       "      <th>LANDAREA</th>\n",
       "      <td>0.256036</td>\n",
       "      <td>0.444378</td>\n",
       "      <td>0.324128</td>\n",
       "      <td>0.519852</td>\n",
       "      <td>0.521318</td>\n",
       "      <td>-0.087834</td>\n",
       "      <td>0.492381</td>\n",
       "      <td>1.000000</td>\n",
       "    </tr>\n",
       "  </tbody>\n",
       "</table>\n",
       "</div>"
      ],
      "text/plain": [
       "              PRICE    BATHRM  HF_BATHRM     ROOMS     BEDRM       AYB  \\\n",
       "PRICE      1.000000  0.420305   0.235291  0.274292  0.283528 -0.035325   \n",
       "BATHRM     0.420305  1.000000   0.292055  0.709537  0.708634 -0.068478   \n",
       "HF_BATHRM  0.235291  0.292055   1.000000  0.392250  0.413532 -0.042940   \n",
       "ROOMS      0.274292  0.709537   0.392250  1.000000  0.847021 -0.222246   \n",
       "BEDRM      0.283528  0.708634   0.413532  0.847021  1.000000 -0.245185   \n",
       "AYB       -0.035325 -0.068478  -0.042940 -0.222246 -0.245185  1.000000   \n",
       "GBA        0.613021  0.696702   0.254083  0.679271  0.646262  0.037411   \n",
       "LANDAREA   0.256036  0.444378   0.324128  0.519852  0.521318 -0.087834   \n",
       "\n",
       "                GBA  LANDAREA  \n",
       "PRICE      0.613021  0.256036  \n",
       "BATHRM     0.696702  0.444378  \n",
       "HF_BATHRM  0.254083  0.324128  \n",
       "ROOMS      0.679271  0.519852  \n",
       "BEDRM      0.646262  0.521318  \n",
       "AYB        0.037411 -0.087834  \n",
       "GBA        1.000000  0.492381  \n",
       "LANDAREA   0.492381  1.000000  "
      ]
     },
     "execution_count": 46,
     "metadata": {},
     "output_type": "execute_result"
    }
   ],
   "source": [
    "dfnew2 = dfnew[['PRICE','BATHRM','HF_BATHRM','ROOMS','BEDRM','AYB','GBA','LANDAREA']]\n",
    "dfnew2.corr()"
   ]
  },
  {
   "cell_type": "markdown",
   "metadata": {},
   "source": []
  },
  {
   "cell_type": "markdown",
   "metadata": {},
   "source": [
    "Project 3 "
   ]
  },
  {
   "cell_type": "markdown",
   "metadata": {},
   "source": [
    "In this project we build a linear regression model to identify features (columns) that may be correlated towards predicting the price of a home "
   ]
  },
  {
   "cell_type": "code",
   "execution_count": 81,
   "metadata": {},
   "outputs": [
    {
     "data": {
      "text/plain": [
       "LinearRegression(copy_X=True, fit_intercept=True, n_jobs=1, normalize=False)"
      ]
     },
     "execution_count": 81,
     "metadata": {},
     "output_type": "execute_result"
    }
   ],
   "source": [
    "#make dataframe that only contains predictive features\n",
    "dfnew3 = dfnew[['PRICE','BATHRM','ROOMS','BEDRM','LANDAREA']]\n",
    "X = dfnew3.drop('PRICE', axis = 1)\n",
    "\n",
    "#assign linear regression function to a variable\n",
    "lm = LinearRegression()\n",
    "lm\n",
    "\n"
   ]
  },
  {
   "cell_type": "code",
   "execution_count": 64,
   "metadata": {},
   "outputs": [
    {
     "data": {
      "text/plain": [
       "PRICE       97848\n",
       "BATHRM      97848\n",
       "ROOMS       97848\n",
       "BEDRM       97848\n",
       "GBA         57893\n",
       "LANDAREA    97848\n",
       "dtype: int64"
      ]
     },
     "execution_count": 64,
     "metadata": {},
     "output_type": "execute_result"
    }
   ],
   "source": [
    "dfnew3.count()"
   ]
  },
  {
   "cell_type": "code",
   "execution_count": 65,
   "metadata": {},
   "outputs": [
    {
     "data": {
      "text/html": [
       "<div>\n",
       "<style scoped>\n",
       "    .dataframe tbody tr th:only-of-type {\n",
       "        vertical-align: middle;\n",
       "    }\n",
       "\n",
       "    .dataframe tbody tr th {\n",
       "        vertical-align: top;\n",
       "    }\n",
       "\n",
       "    .dataframe thead th {\n",
       "        text-align: right;\n",
       "    }\n",
       "</style>\n",
       "<table border=\"1\" class=\"dataframe\">\n",
       "  <thead>\n",
       "    <tr style=\"text-align: right;\">\n",
       "      <th></th>\n",
       "      <th>PRICE</th>\n",
       "      <th>BATHRM</th>\n",
       "      <th>ROOMS</th>\n",
       "      <th>BEDRM</th>\n",
       "      <th>GBA</th>\n",
       "      <th>LANDAREA</th>\n",
       "    </tr>\n",
       "  </thead>\n",
       "  <tbody>\n",
       "    <tr>\n",
       "      <th>count</th>\n",
       "      <td>9.784800e+04</td>\n",
       "      <td>97848.000000</td>\n",
       "      <td>97848.000000</td>\n",
       "      <td>97848.000000</td>\n",
       "      <td>57893.000000</td>\n",
       "      <td>97848.000000</td>\n",
       "    </tr>\n",
       "    <tr>\n",
       "      <th>mean</th>\n",
       "      <td>5.278485e+05</td>\n",
       "      <td>1.861489</td>\n",
       "      <td>5.931618</td>\n",
       "      <td>2.612317</td>\n",
       "      <td>1724.847011</td>\n",
       "      <td>2086.359118</td>\n",
       "    </tr>\n",
       "    <tr>\n",
       "      <th>std</th>\n",
       "      <td>5.977699e+05</td>\n",
       "      <td>0.977711</td>\n",
       "      <td>2.633308</td>\n",
       "      <td>1.391526</td>\n",
       "      <td>819.787736</td>\n",
       "      <td>2705.453130</td>\n",
       "    </tr>\n",
       "    <tr>\n",
       "      <th>min</th>\n",
       "      <td>1.000000e+00</td>\n",
       "      <td>0.000000</td>\n",
       "      <td>0.000000</td>\n",
       "      <td>0.000000</td>\n",
       "      <td>0.000000</td>\n",
       "      <td>0.000000</td>\n",
       "    </tr>\n",
       "    <tr>\n",
       "      <th>25%</th>\n",
       "      <td>2.400000e+05</td>\n",
       "      <td>1.000000</td>\n",
       "      <td>4.000000</td>\n",
       "      <td>2.000000</td>\n",
       "      <td>1216.000000</td>\n",
       "      <td>486.000000</td>\n",
       "    </tr>\n",
       "    <tr>\n",
       "      <th>50%</th>\n",
       "      <td>3.999000e+05</td>\n",
       "      <td>2.000000</td>\n",
       "      <td>6.000000</td>\n",
       "      <td>3.000000</td>\n",
       "      <td>1504.000000</td>\n",
       "      <td>1388.000000</td>\n",
       "    </tr>\n",
       "    <tr>\n",
       "      <th>75%</th>\n",
       "      <td>6.500000e+05</td>\n",
       "      <td>2.000000</td>\n",
       "      <td>7.000000</td>\n",
       "      <td>3.000000</td>\n",
       "      <td>1983.000000</td>\n",
       "      <td>2563.000000</td>\n",
       "    </tr>\n",
       "    <tr>\n",
       "      <th>max</th>\n",
       "      <td>1.415713e+07</td>\n",
       "      <td>12.000000</td>\n",
       "      <td>30.000000</td>\n",
       "      <td>20.000000</td>\n",
       "      <td>15902.000000</td>\n",
       "      <td>187301.000000</td>\n",
       "    </tr>\n",
       "  </tbody>\n",
       "</table>\n",
       "</div>"
      ],
      "text/plain": [
       "              PRICE        BATHRM         ROOMS         BEDRM           GBA  \\\n",
       "count  9.784800e+04  97848.000000  97848.000000  97848.000000  57893.000000   \n",
       "mean   5.278485e+05      1.861489      5.931618      2.612317   1724.847011   \n",
       "std    5.977699e+05      0.977711      2.633308      1.391526    819.787736   \n",
       "min    1.000000e+00      0.000000      0.000000      0.000000      0.000000   \n",
       "25%    2.400000e+05      1.000000      4.000000      2.000000   1216.000000   \n",
       "50%    3.999000e+05      2.000000      6.000000      3.000000   1504.000000   \n",
       "75%    6.500000e+05      2.000000      7.000000      3.000000   1983.000000   \n",
       "max    1.415713e+07     12.000000     30.000000     20.000000  15902.000000   \n",
       "\n",
       "            LANDAREA  \n",
       "count   97848.000000  \n",
       "mean     2086.359118  \n",
       "std      2705.453130  \n",
       "min         0.000000  \n",
       "25%       486.000000  \n",
       "50%      1388.000000  \n",
       "75%      2563.000000  \n",
       "max    187301.000000  "
      ]
     },
     "execution_count": 65,
     "metadata": {},
     "output_type": "execute_result"
    }
   ],
   "source": [
    "dfnew3.describe()"
   ]
  },
  {
   "cell_type": "markdown",
   "metadata": {},
   "source": []
  },
  {
   "cell_type": "code",
   "execution_count": 77,
   "metadata": {},
   "outputs": [
    {
     "data": {
      "text/plain": [
       "dtype('int64')"
      ]
     },
     "execution_count": 77,
     "metadata": {},
     "output_type": "execute_result"
    }
   ],
   "source": [
    "dfnew3['PRICE'].dtypes"
   ]
  },
  {
   "cell_type": "code",
   "execution_count": 76,
   "metadata": {},
   "outputs": [
    {
     "name": "stderr",
     "output_type": "stream",
     "text": [
      "C:\\Python\\lib\\site-packages\\ipykernel_launcher.py:1: SettingWithCopyWarning: \n",
      "A value is trying to be set on a copy of a slice from a DataFrame.\n",
      "Try using .loc[row_indexer,col_indexer] = value instead\n",
      "\n",
      "See the caveats in the documentation: http://pandas.pydata.org/pandas-docs/stable/indexing.html#indexing-view-versus-copy\n",
      "  \"\"\"Entry point for launching an IPython kernel.\n"
     ]
    }
   ],
   "source": [
    "dfnew3['PRICE'] = dfnew3['PRICE'].apply(lambda x: int(x))\n"
   ]
  },
  {
   "cell_type": "code",
   "execution_count": 82,
   "metadata": {},
   "outputs": [
    {
     "data": {
      "text/plain": [
       "LinearRegression(copy_X=True, fit_intercept=True, n_jobs=1, normalize=False)"
      ]
     },
     "execution_count": 82,
     "metadata": {},
     "output_type": "execute_result"
    }
   ],
   "source": [
    "lm.fit(X, dfnew3['PRICE'])"
   ]
  },
  {
   "cell_type": "code",
   "execution_count": 83,
   "metadata": {},
   "outputs": [
    {
     "name": "stdout",
     "output_type": "stream",
     "text": [
      "Estimated intercept coefficient: 104207.51163552556\n"
     ]
    }
   ],
   "source": [
    "#y-intercept for the linear regression formula\n",
    "print('Estimated intercept coefficient:', lm.intercept_)"
   ]
  },
  {
   "cell_type": "code",
   "execution_count": 84,
   "metadata": {},
   "outputs": [
    {
     "name": "stdout",
     "output_type": "stream",
     "text": [
      "Number of coefficients: 4\n"
     ]
    }
   ],
   "source": [
    "#number of predictive features\n",
    "print('Number of coefficients:', len(lm.coef_))"
   ]
  },
  {
   "cell_type": "code",
   "execution_count": 87,
   "metadata": {},
   "outputs": [
    {
     "data": {
      "text/html": [
       "<div>\n",
       "<style scoped>\n",
       "    .dataframe tbody tr th:only-of-type {\n",
       "        vertical-align: middle;\n",
       "    }\n",
       "\n",
       "    .dataframe tbody tr th {\n",
       "        vertical-align: top;\n",
       "    }\n",
       "\n",
       "    .dataframe thead th {\n",
       "        text-align: right;\n",
       "    }\n",
       "</style>\n",
       "<table border=\"1\" class=\"dataframe\">\n",
       "  <thead>\n",
       "    <tr style=\"text-align: right;\">\n",
       "      <th></th>\n",
       "      <th>features</th>\n",
       "      <th>estimatedCoefficients</th>\n",
       "    </tr>\n",
       "  </thead>\n",
       "  <tbody>\n",
       "    <tr>\n",
       "      <th>0</th>\n",
       "      <td>BATHRM</td>\n",
       "      <td>270010.152160</td>\n",
       "    </tr>\n",
       "    <tr>\n",
       "      <th>1</th>\n",
       "      <td>ROOMS</td>\n",
       "      <td>-18392.837186</td>\n",
       "    </tr>\n",
       "    <tr>\n",
       "      <th>2</th>\n",
       "      <td>BEDRM</td>\n",
       "      <td>-8211.763063</td>\n",
       "    </tr>\n",
       "    <tr>\n",
       "      <th>3</th>\n",
       "      <td>LANDAREA</td>\n",
       "      <td>24.718174</td>\n",
       "    </tr>\n",
       "  </tbody>\n",
       "</table>\n",
       "</div>"
      ],
      "text/plain": [
       "   features  estimatedCoefficients\n",
       "0    BATHRM          270010.152160\n",
       "1     ROOMS          -18392.837186\n",
       "2     BEDRM           -8211.763063\n",
       "3  LANDAREA              24.718174"
      ]
     },
     "execution_count": 87,
     "metadata": {},
     "output_type": "execute_result"
    }
   ],
   "source": [
    "#show the slope (weight) for each predictive feature\n",
    "pd.DataFrame(list(zip(X.columns, lm.coef_)), columns = ['features', 'estimatedCoefficients'])"
   ]
  },
  {
   "cell_type": "markdown",
   "metadata": {},
   "source": [
    "remove missing value from GBA and include it back to model"
   ]
  },
  {
   "cell_type": "code",
   "execution_count": null,
   "metadata": {},
   "outputs": [],
   "source": []
  },
  {
   "cell_type": "code",
   "execution_count": null,
   "metadata": {},
   "outputs": [],
   "source": []
  },
  {
   "cell_type": "code",
   "execution_count": null,
   "metadata": {},
   "outputs": [],
   "source": []
  },
  {
   "cell_type": "code",
   "execution_count": null,
   "metadata": {},
   "outputs": [],
   "source": [
    "result = smf.ols('PRICE ~ BATHRM + ROOMS + BEDRM + LANDAREA', data=dfnew3).fit()\n"
   ]
  },
  {
   "cell_type": "markdown",
   "metadata": {},
   "source": [
    "Result Summary"
   ]
  }
 ],
 "metadata": {
  "kernelspec": {
   "display_name": "Python 3",
   "language": "python",
   "name": "python3"
  },
  "language_info": {
   "codemirror_mode": {
    "name": "ipython",
    "version": 3
   },
   "file_extension": ".py",
   "mimetype": "text/x-python",
   "name": "python",
   "nbconvert_exporter": "python",
   "pygments_lexer": "ipython3",
   "version": "3.6.4"
  }
 },
 "nbformat": 4,
 "nbformat_minor": 2
}
